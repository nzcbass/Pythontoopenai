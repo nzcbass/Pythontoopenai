{
  "nbformat": 4,
  "nbformat_minor": 0,
  "metadata": {
    "colab": {
      "provenance": [],
      "authorship_tag": "ABX9TyPf8270du8Ma6O99F8zf/hk",
      "include_colab_link": true
    },
    "kernelspec": {
      "name": "python3",
      "display_name": "Python 3"
    },
    "language_info": {
      "name": "python"
    }
  },
  "cells": [
    {
      "cell_type": "markdown",
      "metadata": {
        "id": "view-in-github",
        "colab_type": "text"
      },
      "source": [
        "<a href=\"https://colab.research.google.com/github/nzcbass/Pythontoopenai/blob/main/World_City_add_country_to_city_column_v2.ipynb\" target=\"_parent\"><img src=\"https://colab.research.google.com/assets/colab-badge.svg\" alt=\"Open In Colab\"/></a>"
      ]
    },
    {
      "cell_type": "code",
      "execution_count": 124,
      "metadata": {
        "id": "NZuhrHe4ax3R"
      },
      "outputs": [],
      "source": [
        "import pandas as pd\n",
        "\n",
        "# Load the original DataFrame from the Excel file\n",
        "xlsx_file_path = \"/content/World Cities.xlsx\"\n",
        "df1 = pd.read_excel(xlsx_file_path)\n",
        "\n",
        "# Function to remove suffix from 'City' column\n",
        "def remove_city_suffix(city):\n",
        "    if city.lower().endswith('city'):\n",
        "        city = city[:-5]\n",
        "    return city\n",
        "\n",
        "# Apply the remove_city_suffix function to the 'City' column\n",
        "df1['City'] = df1['City'].apply(remove_city_suffix)\n",
        "\n",
        "# Convert the 'City' column to lowercase for case-insensitive comparison\n",
        "df1['City'] = df1['City'].str.lower()\n",
        "\n",
        "# Identify duplicates in 'City' column\n",
        "duplicate_cities = df1.duplicated(subset=['City'], keep=False)\n",
        "\n",
        "# Check if duplicates have the same values in 'Country' column\n",
        "duplicate_city_country = df1[duplicate_cities].duplicated(subset=['City', 'Country'], keep='first')\n",
        "\n",
        "# Filter the DataFrame to keep only non-duplicate rows\n",
        "df1_cleaned = df1[~(duplicate_cities & ~duplicate_city_country)]\n",
        "\n",
        "# Sort the DataFrame by 'City' column\n",
        "df1_sorted = df1_cleaned.sort_values(by='City')\n",
        "\n",
        "# Identify duplicates in the 'City' and 'Country' columns\n",
        "duplicate_city_country = df1_sorted.duplicated(subset=['City', 'Country'], keep=False)\n",
        "\n",
        "# Remove duplicates from the original DataFrame\n",
        "df1_cleaned_final = df1_sorted[~duplicate_city_country].drop_duplicates(subset=['City', 'Country'], keep='first')\n",
        "\n",
        "# Function to update city names\n",
        "def update_city_name(dataframe, old_name, new_name):\n",
        "    # Use case-sensitive comparison by removing the .lower()\n",
        "    dataframe.loc[dataframe['City'] == old_name, 'City'] = new_name\n",
        "    return dataframe\n",
        "\n",
        "# Display the updated DataFrame\n",
        "# print(\"Updated DataFrame:\")\n",
        "# print(df1_cleaned_final.head())\n",
        "\n",
        "# Save the resulting cleaned DataFrame to an Excel file\n",
        "df1_cleaned_final.to_excel(\"/content/Updated_World_Cities.xlsx\", index=False)\n"
      ]
    },
    {
      "cell_type": "code",
      "source": [
        "# Check if 'Cangola' is in the 'City' column of df1_cleaned_final\n",
        "is_cangola_present = 'cangola' in df1_cleaned_final['City'].values\n",
        "\n",
        "# Print the result\n",
        "print(f\"'Cangola' is present in the 'City' column: {is_cangola_present}\")\n"
      ],
      "metadata": {
        "colab": {
          "base_uri": "https://localhost:8080/"
        },
        "id": "XNWxN-mPNPvb",
        "outputId": "23c1dd56-8680-4590-99c6-53667ca069dc"
      },
      "execution_count": 125,
      "outputs": [
        {
          "output_type": "stream",
          "name": "stdout",
          "text": [
            "'Cangola' is present in the 'City' column: True\n"
          ]
        }
      ]
    },
    {
      "cell_type": "code",
      "source": [
        "# Find rows where 'City' is 'angola'\n",
        "angola_cities = df1_cleaned_final[df1_cleaned_final['City'] == 'angola']\n",
        "\n",
        "# Display the countries with 'Angola' as a city\n",
        "angola_countries = angola_cities['Country'].unique()\n",
        "print(\"Countries with 'angola' as a city:\")\n",
        "print(angola_countries)\n"
      ],
      "metadata": {
        "colab": {
          "base_uri": "https://localhost:8080/"
        },
        "id": "yPVT_hGsNjsW",
        "outputId": "f5082933-60c6-45b0-df7d-03cfe6687826"
      },
      "execution_count": 126,
      "outputs": [
        {
          "output_type": "stream",
          "name": "stdout",
          "text": [
            "Countries with 'angola' as a city:\n",
            "['United States']\n"
          ]
        }
      ]
    },
    {
      "cell_type": "code",
      "source": [
        "# Check if 'Angola' is in the 'Country' column\n",
        "is_angola_country = 'angola' in df1_cleaned_final['Country'].str.lower().values\n",
        "\n",
        "# Print the result\n",
        "print(f\"'Angola' is a country: {is_angola_country}\")\n"
      ],
      "metadata": {
        "colab": {
          "base_uri": "https://localhost:8080/"
        },
        "id": "f3SHVhz8PWm-",
        "outputId": "ae336b9b-648c-4432-9493-ca0708c77f45"
      },
      "execution_count": 127,
      "outputs": [
        {
          "output_type": "stream",
          "name": "stdout",
          "text": [
            "'Angola' is a country: True\n"
          ]
        }
      ]
    }
  ]
}