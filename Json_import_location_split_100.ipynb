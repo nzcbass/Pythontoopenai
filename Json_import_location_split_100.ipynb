{
  "nbformat": 4,
  "nbformat_minor": 0,
  "metadata": {
    "colab": {
      "provenance": [],
      "authorship_tag": "ABX9TyN3ZSqeiKNyi/6wSAIKLdfb",
      "include_colab_link": true
    },
    "kernelspec": {
      "name": "python3",
      "display_name": "Python 3"
    },
    "language_info": {
      "name": "python"
    }
  },
  "cells": [
    {
      "cell_type": "markdown",
      "metadata": {
        "id": "view-in-github",
        "colab_type": "text"
      },
      "source": [
        "<a href=\"https://colab.research.google.com/github/nzcbass/Pythontoopenai/blob/main/Json_import_location_split_100.ipynb\" target=\"_parent\"><img src=\"https://colab.research.google.com/assets/colab-badge.svg\" alt=\"Open In Colab\"/></a>"
      ]
    },
    {
      "cell_type": "code",
      "execution_count": 86,
      "metadata": {
        "id": "TyXBNmCv2siT",
        "colab": {
          "base_uri": "https://localhost:8080/"
        },
        "outputId": "d2317b67-1513-4762-e516-0aa4eb5db0eb"
      },
      "outputs": [
        {
          "output_type": "stream",
          "name": "stdout",
          "text": [
            "Job labeling completed. Labeled data saved to /content/jobslabeled.json\n"
          ]
        }
      ],
      "source": [
        "#  this code is perfect, do no change\n",
        "#  it loads the json, adds jon numbers\n",
        "#  saves back down for later use\n",
        "#  !!!!!DO NOT CHANGE!!!!!\n",
        "\n",
        "import json\n",
        "import pandas as pd\n",
        "import re\n",
        "\n",
        "# Assuming 'resume.json' is in a directory called 'resumes' in the same parent directory as your Python script\n",
        "json_file_path1 = \"/content/CV_parsed_by_CV_Parser_Premium-23.json\"  # Relative path\n",
        "\n",
        "# Open the JSON file and load its contents into a Python dictionary\n",
        "with open(json_file_path1, 'r') as file:\n",
        "    resume_data = json.load(file)\n",
        "\n",
        "# Labeling the job entries\n",
        "job_count = 1\n",
        "for experience in resume_data['profile']['professional_experiences']:\n",
        "    experience['job_label'] = f'Job_{job_count}'\n",
        "    job_count += 1\n",
        "\n",
        "# Save the modified data back to the JSON file\n",
        "output_json_path = \"/content/jobslabeled.json\"\n",
        "with open(output_json_path, 'w') as output_file:\n",
        "    json.dump(resume_data, output_file, indent=2)\n",
        "\n",
        "print(f\"Job labeling completed. Labeled data saved to {output_json_path}\")\n",
        "\n",
        "# Now 'resume_data' contains the contents of the JSON file\n",
        "# print(json.dumps(resume_data, indent=2))\n",
        "\n",
        "# Load df1 from the Excel file\n",
        "df1_path = \"/content/world_cities_countries.csv\"\n",
        "df1 = pd.read_csv(df1_path)\n",
        "\n",
        "\n",
        "def split_and_create_columns(location):\n",
        "    if pd.notna(location):\n",
        "        substrings = re.split(r'[^\\w]+', location)\n",
        "        substrings = [entry.strip() for entry in substrings]\n",
        "        substrings = [remove_special_terms(entry) for entry in substrings]\n",
        "\n",
        "        if any(\"justice\" in entry.lower() or \"precinct\" in entry.lower() for entry in substrings):\n",
        "            substrings.append(\"new zealand\")\n",
        "\n",
        "        if any(\"christchurch\" in entry.lower() or \"convention\" in entry.lower() for entry in substrings):\n",
        "            substrings.append(\"new zealand\")\n",
        "\n",
        "        return substrings\n",
        "\n",
        "    return pd.NA\n",
        "\n",
        "def remove_special_terms(substring):\n",
        "    special_terms = [\"plaza\", \"street\", \"st\", \"road\", \"rd\", \"avenue\", \"close\", \"motorway\", \"highway\",\n",
        "                     \"po\", \"PO\", \"new zealand|po\", \"office\", \"drive\", \"cor.\", \"ave.\", \"ave\", \"level\", \"lvl\",\n",
        "                     \"box\", \"lv\", \"village\", \"vellage\", \"building\", \"bldg\", \"city\", \"albany\"]\n",
        "\n",
        "    pattern = r'\\b(?:' + '|'.join(re.escape(term) for term in special_terms) + r')\\b'\n",
        "\n",
        "    substring = re.sub(pattern, '', substring, flags=re.IGNORECASE).strip()\n",
        "\n",
        "    if \"rubber\" in substring.lower():\n",
        "        substring = substring.replace(\"rubber\", \"\").strip()\n",
        "\n",
        "    if \"tire\" in substring.lower():\n",
        "        substring = substring.replace(\"tire\", \"\").strip()\n",
        "\n",
        "    return substring\n",
        "\n",
        "if __name__ == \"__main__\":\n",
        "    json_file_path2 = \"jobslabeled.json\"\n",
        "    df = pd.json_normalize(json.load(open(json_file_path2, 'r'))['profile']['professional_experiences'])\n",
        "\n",
        "    # Focus on the 'location' column\n",
        "    df['location'] = df['location'].str.lower()\n",
        "    new_columns = df['location'].apply(split_and_create_columns).apply(pd.Series)\n",
        "\n",
        "    # Label the new columns with subscripts and append numbers\n",
        "    new_columns.columns = [f'subscript_{i+1}' for i in range(new_columns.shape[1])]\n",
        "\n",
        "    # Concatenate the new columns to the original DataFrame\n",
        "    df = pd.concat([df, new_columns], axis=1)\n",
        "\n",
        "# Save df to a CSV file\n",
        "df.to_csv('output_data.csv', index=False)"
      ]
    }
  ]
}