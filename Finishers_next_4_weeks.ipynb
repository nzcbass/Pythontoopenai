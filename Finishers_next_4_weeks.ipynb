{
  "nbformat": 4,
  "nbformat_minor": 0,
  "metadata": {
    "colab": {
      "provenance": [],
      "authorship_tag": "ABX9TyPeKW6E0qpqf0Gt54XUkHA/",
      "include_colab_link": true
    },
    "kernelspec": {
      "name": "python3",
      "display_name": "Python 3"
    },
    "language_info": {
      "name": "python"
    }
  },
  "cells": [
    {
      "cell_type": "markdown",
      "metadata": {
        "id": "view-in-github",
        "colab_type": "text"
      },
      "source": [
        "<a href=\"https://colab.research.google.com/github/nzcbass/Pythontoopenai/blob/main/Finishers_next_4_weeks.ipynb\" target=\"_parent\"><img src=\"https://colab.research.google.com/assets/colab-badge.svg\" alt=\"Open In Colab\"/></a>"
      ]
    },
    {
      "cell_type": "code",
      "execution_count": 14,
      "metadata": {
        "id": "Q3qLKSfTGWoJ"
      },
      "outputs": [],
      "source": [
        "import pandas as pd\n",
        "from datetime import datetime, timedelta\n",
        "\n",
        "file_path1 = \"/content/jobOrderListGrid.csv\"\n",
        "df1 = pd.read_csv(file_path1)\n",
        "\n",
        "columns_to_remove = [\n",
        "    'Status', 'Candidate ID', 'Job No.', 'Position Type', 'Type', 'Filled Date',\n",
        "    'Office', 'Parent Name', 'Client No.', 'Cost Centre ID', 'Cost Centre Name',\n",
        "    ' Order by Contact', 'Site Contact', 'Order Date & Time'\n",
        "]\n",
        "\n",
        "df1 = df1.drop(columns=columns_to_remove)\n",
        "\n",
        "# Assuming 'Start Date' and 'End Date' are the columns you want to reformat\n",
        "date_format = '%d/%m/%Y'  # Adjust the format based on your actual date format\n",
        "\n",
        "df1['Start Date'] = pd.to_datetime(df1['Start Date'], format=date_format).dt.strftime('%d-%m-%Y')\n",
        "df1['End Date'] = pd.to_datetime(df1['End Date'], format=date_format).dt.strftime('%d-%m-%Y')\n",
        "\n",
        "# Convert 'End Date' to datetime format\n",
        "df1['End Date'] = pd.to_datetime(df1['End Date'], format='%d-%m-%Y')\n",
        "\n",
        "# Get today's date as datetime64[ns]\n",
        "today_date = pd.to_datetime(datetime.now().date())\n",
        "\n",
        "# Calculate the end date threshold (4 weeks from today)\n",
        "end_date_threshold = today_date + timedelta(weeks=4)\n",
        "\n",
        "# Filter rows based on conditions\n",
        "filtered_df = df1[(df1['End Date'] <= end_date_threshold) | (df1['End Date'] < today_date)].copy()\n",
        "\n",
        "# Convert 'End Date' format to \"dd-mm-yyyy\"\n",
        "filtered_df['End Date'] = pd.to_datetime(filtered_df['End Date'], format='%d-%m-%Y').dt.strftime('%d-%m-%Y')\n",
        "\n",
        "# Change column name 'Job Owner' to 'Consultant'\n",
        "filtered_df = filtered_df.rename(columns={'Job Owner': 'Consultant'})\n",
        "\n",
        "# Save the filtered DataFrame as a new CSV file\n",
        "output_filtered_file_path = \"/content/Filtered_Job_Start_and_End_Dates.csv\"\n",
        "filtered_df.to_csv(output_filtered_file_path, index=False)\n"
      ]
    }
  ]
}