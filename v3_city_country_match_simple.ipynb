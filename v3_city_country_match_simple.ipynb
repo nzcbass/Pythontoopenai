{
  "nbformat": 4,
  "nbformat_minor": 0,
  "metadata": {
    "colab": {
      "provenance": [],
      "authorship_tag": "ABX9TyNHd/Bxm4WetLXs8t4VmAHp",
      "include_colab_link": true
    },
    "kernelspec": {
      "name": "python3",
      "display_name": "Python 3"
    },
    "language_info": {
      "name": "python"
    }
  },
  "cells": [
    {
      "cell_type": "markdown",
      "metadata": {
        "id": "view-in-github",
        "colab_type": "text"
      },
      "source": [
        "<a href=\"https://colab.research.google.com/github/nzcbass/Pythontoopenai/blob/main/v3_city_country_match_simple.ipynb\" target=\"_parent\"><img src=\"https://colab.research.google.com/assets/colab-badge.svg\" alt=\"Open In Colab\"/></a>"
      ]
    },
    {
      "cell_type": "code",
      "execution_count": 14,
      "metadata": {
        "colab": {
          "base_uri": "https://localhost:8080/"
        },
        "id": "CndfYExK5Wom",
        "outputId": "b00885de-59f0-4e4c-de7c-6d4400e509c1"
      },
      "outputs": [
        {
          "output_type": "stream",
          "name": "stdout",
          "text": [
            "   is_current  duration_in_months                                    company  \\\n",
            "0        True                41.0       Mechanical construction link Limited   \n",
            "1       False                 NaN  Climate change system New Zealand Limited   \n",
            "2       False                14.0                  Sheet metal solution LTD.   \n",
            "3       False                10.0                    AMT mechanical Services   \n",
            "4       False                11.0                                 AWF trades   \n",
            "5       False                25.0        Bechtel overseas international inc.   \n",
            "6       False                 7.0              Eastern Bechtel international   \n",
            "7       False                13.0        rotary hum (m/e) services. UAE. LLC   \n",
            "8       False                15.0         AICI JV millennium village project   \n",
            "9       False                49.0               Saudi tire recycling company   \n",
            "\n",
            "                                            location  \\\n",
            "0                       wellington children hospital   \n",
            "1                    multiple location auckland area   \n",
            "2                     christchurch convention centre   \n",
            "3      new education bldg.uc/cob outpatient hospital   \n",
            "4                               justice and precinct   \n",
            "5                          angola lng chemical plant   \n",
            "6                              agd2 asab gas project   \n",
            "7             atlantis hotel the palm jumeirah dubai   \n",
            "8     us airbase millennium village facility project   \n",
            "9  rubber tire facilities and administration buil...   \n",
            "\n",
            "                                title  \\\n",
            "0  HVAC Technician/ Mechanical Fitter   \n",
            "1                         duct fitter   \n",
            "2                      Duct installer   \n",
            "3                      DUCT INSTALLER   \n",
            "4                             Ductman   \n",
            "5                           insulator   \n",
            "6                   SHEETMETAL WORKER   \n",
            "7                        DUCT ERECTOR   \n",
            "8                     DUCT FABRICATOR   \n",
            "9      duct fabricator/duct installer   \n",
            "\n",
            "                                         description job_label  \\\n",
            "0  Responsible for handling and running tasks giv...     Job_1   \n",
            "1  Coordinated and followed client instructions f...     Job_2   \n",
            "2  Read shop drawings for fabrication job\\nInstal...     Job_3   \n",
            "3  Took size measurements on site for cutting lis...     Job_4   \n",
            "4  Executed duct installation work based on ducti...     Job_5   \n",
            "5  Read and interpreted isometric drawings and sp...     Job_6   \n",
            "6  Fabricated all types of metal cladding fitting...     Job_7   \n",
            "7  Used cutting list to find exact number and siz...     Job_8   \n",
            "8  Manually laid out objects and fabricated duct ...     Job_9   \n",
            "9  Installed tub axial or centrifugal blowers for...    Job_10   \n",
            "\n",
            "   start_date.year  start_date.month  end_date.year  ...   subscript_1  \\\n",
            "0             2020                 7           2023  ...    wellington   \n",
            "1             2020                11           2020  ...      multiple   \n",
            "2             2018                10           2019  ...  christchurch   \n",
            "3             2017                 8           2018  ...           new   \n",
            "4             2016                10           2017  ...       justice   \n",
            "5             2011                10           2013  ...        angola   \n",
            "6             2009                11           2010  ...          agd2   \n",
            "7             2007                 3           2008  ...      atlantis   \n",
            "8             2004                12           2006  ...            us   \n",
            "9             1999                 4           2003  ...           NaN   \n",
            "\n",
            "  subscript_2 subscript_3  subscript_4     subscript_5 subscript_6  \\\n",
            "0    children    hospital          NaN             NaN         NaN   \n",
            "1    location    auckland         area             NaN         NaN   \n",
            "2  convention      centre  new zealand             NaN         NaN   \n",
            "3   education         NaN           uc             cob  outpatient   \n",
            "4         and    precinct  new zealand             NaN         NaN   \n",
            "5         lng    chemical        plant             NaN         NaN   \n",
            "6        asab         gas      project             NaN         NaN   \n",
            "7       hotel         the         palm        jumeirah       dubai   \n",
            "8     airbase  millennium          NaN        facility     project   \n",
            "9         NaN  facilities          and  administration         NaN   \n",
            "\n",
            "  subscript_7 found_countries countries_matched  cities_matched  \n",
            "0         NaN            None                    wellington, ho  \n",
            "1         NaN            None                      auckland, an  \n",
            "2         NaN            None                      christchurch  \n",
            "3    hospital            None                          pati, ho  \n",
            "4         NaN            None                                an  \n",
            "5         NaN            None            angola         ica, an  \n",
            "6         NaN            None                                    \n",
            "7         NaN            None                     dubai, an, ho  \n",
            "8         NaN            None                                    \n",
            "9         NaN            None                          an, tire  \n",
            "\n",
            "[10 rows x 21 columns]\n",
            "DataFrame saved to city_country_output_data.csv\n"
          ]
        }
      ],
      "source": [
        "import pandas as pd\n",
        "\n",
        "# Load df & df1\n",
        "df_path = \"/content/output_data-82.csv\"\n",
        "df = pd.read_csv(df_path)\n",
        "\n",
        "df1_path = \"/content/world_countries.csv\"\n",
        "df1 = pd.read_csv(df1_path)\n",
        "\n",
        "df2_path = \"/content/world_cities_countries.csv\"\n",
        "df2 = pd.read_csv(df2_path)\n",
        "\n",
        "df['location'] = df['location'].astype(str)\n",
        "df1['country'] = df1 ['country'].astype(str)\n",
        "\n",
        "# Create a new column to store the found country names\n",
        "df['found_countries'] = None\n",
        "\n",
        "# Create a new column 'countries_matched' in df\n",
        "df['countries_matched'] = df['location'].apply(lambda x: ', '.join(country for country in df1['country'] if country.lower() in x.lower()))\n",
        "\n",
        "# Create a new column 'cities_matched' in df\n",
        "df['cities_matched'] = df['location'].apply(lambda x: ', '.join(city for city in df2['city'] if city.lower() in x.lower()))\n",
        "\n",
        "\n",
        "# Display the resulting DataFrame\n",
        "print(df)\n",
        "\n",
        "# Save df as a CSV file\n",
        "csv_output_path = \"city_country_output_data.csv\"\n",
        "df.to_csv(csv_output_path, index=False)\n",
        "print(f\"DataFrame saved to {csv_output_path}\")\n"
      ]
    }
  ]
}