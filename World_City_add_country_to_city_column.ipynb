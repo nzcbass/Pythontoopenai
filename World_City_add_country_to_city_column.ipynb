{
  "nbformat": 4,
  "nbformat_minor": 0,
  "metadata": {
    "colab": {
      "provenance": [],
      "authorship_tag": "ABX9TyNXcb80gEMqVdVPSLG6zPo6",
      "include_colab_link": true
    },
    "kernelspec": {
      "name": "python3",
      "display_name": "Python 3"
    },
    "language_info": {
      "name": "python"
    }
  },
  "cells": [
    {
      "cell_type": "markdown",
      "metadata": {
        "id": "view-in-github",
        "colab_type": "text"
      },
      "source": [
        "<a href=\"https://colab.research.google.com/github/nzcbass/Pythontoopenai/blob/main/World_City_add_country_to_city_column.ipynb\" target=\"_parent\"><img src=\"https://colab.research.google.com/assets/colab-badge.svg\" alt=\"Open In Colab\"/></a>"
      ]
    },
    {
      "cell_type": "code",
      "execution_count": 11,
      "metadata": {
        "id": "NZuhrHe4ax3R",
        "colab": {
          "base_uri": "https://localhost:8080/"
        },
        "outputId": "9360a2a7-1df5-40c0-cb70-715aa8340b16"
      },
      "outputs": [
        {
          "output_type": "stream",
          "name": "stderr",
          "text": [
            "<ipython-input-11-202da1e7c520>:29: FutureWarning: The frame.append method is deprecated and will be removed from pandas in a future version. Use pandas.concat instead.\n",
            "  df2 = df2.append(new_cities, ignore_index=True)\n",
            "<ipython-input-11-202da1e7c520>:48: FutureWarning: The frame.append method is deprecated and will be removed from pandas in a future version. Use pandas.concat instead.\n",
            "  df2 = df2.append(new_countries, ignore_index=True)\n"
          ]
        }
      ],
      "source": [
        "# Updates World City and adds country names to the city column\n",
        "\n",
        "import pandas as pd\n",
        "\n",
        "xlsx_file_path = \"/content/World Cities.xlsx\"\n",
        "df1 = pd.read_excel(xlsx_file_path)\n",
        "\n",
        "# Assuming df1 is your original DataFrame\n",
        "df2 = df1.copy()  # Create a copy of df1 called df2\n",
        "\n",
        "# Copy the values from 'Country' to 'City' in df2\n",
        "df2['City'] = df2['Country']\n",
        "\n",
        "# Remove duplicate rows based on the values in the 'City' column\n",
        "df2 = df2.drop_duplicates(subset='City', keep='first')\n",
        "\n",
        "# Remove the header from df2\n",
        "df2 = df2[1:]\n",
        "\n",
        "# Add new cities\n",
        "new_cities = [\n",
        "    {'City': 'Chrichurch', 'Country': 'New Zealand', 'iso2': 'NZ', 'iso3': 'NZL'},\n",
        "    {'City': 'Mangere', 'Country': 'New Zealand', 'iso2': 'NZ', 'iso3': 'NZL'},\n",
        "    {'City': 'Phil.', 'Country': 'Philippines', 'iso2': 'PH', 'iso3': 'PHL'},\n",
        "    {'City': 'Makati', 'Country': 'Philippines', 'iso2': 'PH', 'iso3': 'PHL'},\n",
        "    {'City': 'Pasig', 'Country': 'Philippines', 'iso2': 'PH', 'iso3': 'PHL'},\n",
        "    {'City': 'UK', 'Country': 'United Kingdom', 'iso2': 'GB', 'iso3': 'GBR'}\n",
        "]\n",
        "df2 = df2.append(new_cities, ignore_index=True)\n",
        "\n",
        "# Add new countries\n",
        "new_countries = [\n",
        "    {'City': 'Africa', 'Country': 'Central African Republic', 'iso2': 'CF', 'iso3': 'CAF'},\n",
        "    {'City': 'Congo', 'Country': 'Central African Republic', 'iso2': 'CF', 'iso3': 'CAF'},\n",
        "    {'City': 'Angola', 'Country': 'Central African Republic', 'iso2': 'CF', 'iso3': 'CAF'},\n",
        "    {'City': 'Burundi', 'Country': 'Central African Republic', 'iso2': 'CF', 'iso3': 'CAF'},\n",
        "    {'City': 'Chad', 'Country': 'Central African Republic', 'iso2': 'CF', 'iso3': 'CAF'},\n",
        "    {'City': 'Equatorial Guinea', 'Country': 'Central African Republic', 'iso2': 'CF', 'iso3': 'CAF'},\n",
        "    {'City': 'Gabon', 'Country': 'Central African Republic', 'iso2': 'CF', 'iso3': 'CAF'},\n",
        "    {'City': 'Cameroon', 'Country': 'Central African Republic', 'iso2': 'CF', 'iso3': 'CAF'},\n",
        "    {'City': 'Democratic Republic of Congo', 'Country': 'Central African Republic', 'iso2': 'CF', 'iso3': 'CAF'},\n",
        "    {'City': 'Republic of Congo', 'Country': 'Central African Republic', 'iso2': 'CF', 'iso3': 'CAF'},\n",
        "    {'City': 'Rwanda', 'Country': 'Central African Republic', 'iso2': 'CF', 'iso3': 'CAF'},\n",
        "    {'City': 'Sao Tomé', 'Country': 'Central African Republic', 'iso2': 'CF', 'iso3': 'CAF'},\n",
        "    {'City': 'Principe', 'Country': 'Central African Republic', 'iso2': 'CF', 'iso3': 'CAF'},\n",
        "    {'City': 'Cavite', 'Country': 'Phillipines', 'iso2': 'PH', 'iso3': 'PHL'}\n",
        "]\n",
        "df2 = df2.append(new_countries, ignore_index=True)\n",
        "\n",
        "# remove Christchurch Italy\n",
        "index_to_remove = df2[(df2['City'] == 'Christchurch') & (df2['Country'] == 'NZ')].index\n",
        "df2 = df2.drop(index_to_remove)\n",
        "\n",
        "# remove aves portugal\n",
        "index_to_remove = df2[(df2['City'] == 'Aves') & (df2['Country'] == 'Portugal')].index\n",
        "df2 = df2.drop(index_to_remove)\n",
        "\n",
        "# Concatenate df2 below the existing data in df1\n",
        "df1 = pd.concat([df1, df2], ignore_index=True)\n",
        "\n",
        "# Assuming df1 is your DataFrame\n",
        "df1.to_excel(\"/content/Updated_World_Cities.xlsx\", index=False)\n",
        "\n"
      ]
    },
    {
      "cell_type": "code",
      "source": [
        "matching_rows = df1[df1['City'].str.lower().str.contains('pasig')]\n",
        "if not matching_rows.empty:\n",
        "    print(\"The string 'pasig' is present in the following rows:\")\n",
        "    print(matching_rows)\n",
        "else:\n",
        "    print(\"The string 'psaig' is not present in the 'City' column of df1\")\n"
      ],
      "metadata": {
        "colab": {
          "base_uri": "https://localhost:8080/"
        },
        "id": "21QSOXrfULU2",
        "outputId": "7b88f4bb-0725-4844-db1c-5d2b84a88ff0"
      },
      "execution_count": 9,
      "outputs": [
        {
          "output_type": "stream",
          "name": "stdout",
          "text": [
            "The string 'pasig' is present in the following rows:\n",
            "             City      Country iso2 iso3\n",
            "16508    Pasighat        India   IN  IND\n",
            "28921  Pasig City  Philippines   PH  PHL\n"
          ]
        }
      ]
    }
  ]
}